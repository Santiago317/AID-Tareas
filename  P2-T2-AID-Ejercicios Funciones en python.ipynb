{
  "nbformat": 4,
  "nbformat_minor": 0,
  "metadata": {
    "colab": {
      "name": "Untitled1.ipynb",
      "provenance": [],
      "authorship_tag": "ABX9TyNxcdQ09XlOCwNylOwBPd/L",
      "include_colab_link": true
    },
    "kernelspec": {
      "name": "python3",
      "display_name": "Python 3"
    },
    "language_info": {
      "name": "python"
    }
  },
  "cells": [
    {
      "cell_type": "markdown",
      "metadata": {
        "id": "view-in-github",
        "colab_type": "text"
      },
      "source": [
        "<a href=\"https://colab.research.google.com/github/Santiago317/AID-Tareas/blob/main/%20P2-T2-AID-Ejercicios%20Funciones%20en%20python.ipynb\" target=\"_parent\"><img src=\"https://colab.research.google.com/assets/colab-badge.svg\" alt=\"Open In Colab\"/></a>"
      ]
    },
    {
      "cell_type": "code",
      "metadata": {
        "colab": {
          "base_uri": "https://localhost:8080/"
        },
        "id": "8lzaEsaO4tW-",
        "outputId": "3c2f7186-e6e7-46ad-a838-a6dd1714ec81"
      },
      "source": [
        "#Ejercicio_1\n",
        "#Escribir una función que calcule el total de una factura tras aplicarle el IVA. \n",
        "#La función debe recibir la cantidad sin IVA y el porcentaje de IVA a aplicar, y devolver el total de la factura. \n",
        "#Si se invoca la función sin pasarle el porcentaje de IVA, deberá aplicar un 21%.\n",
        "\n",
        "def funcion(cantidad_sin_iva, porcentaje_de_iva=21):\n",
        "    \n",
        "    return cantidad_sin_iva + cantidad_sin_iva*porcentaje_de_iva/100\n",
        "\n",
        "print(funcion(1000,10))\n",
        "print(funcion(1000))"
      ],
      "execution_count": 45,
      "outputs": [
        {
          "output_type": "stream",
          "text": [
            "1100.0\n",
            "1210.0\n"
          ],
          "name": "stdout"
        }
      ]
    },
    {
      "cell_type": "code",
      "metadata": {
        "colab": {
          "base_uri": "https://localhost:8080/"
        },
        "id": "U_EDxTyA-NRk",
        "outputId": "97587cb8-d1b2-4e17-faff-50d75fe65bc8"
      },
      "source": [
        "#Ejercicio_2\n",
        "\n",
        "#Escribir una función que calcule el área de un círculo\n",
        "#y otra que calcule el volumen de un cilindro usando la primera función.\n",
        "\n",
        "def area_circulo(radio):\n",
        "   \n",
        "    formula_pi = 3.1416\n",
        "    return formula_pi*radio**2\n",
        "\n",
        "def volumen_cilindro(radio, altura_cilindro):\n",
        "   \n",
        "    return area_circulo(radio)*altura_cilindro\n",
        "\n",
        "print(volumen_cilindro(3,5))"
      ],
      "execution_count": 46,
      "outputs": [
        {
          "output_type": "stream",
          "text": [
            "141.372\n"
          ],
          "name": "stdout"
        }
      ]
    },
    {
      "cell_type": "code",
      "metadata": {
        "colab": {
          "base_uri": "https://localhost:8080/"
        },
        "id": "dPytDylqJwiL",
        "outputId": "511947dc-c4a7-42ca-830a-e6ac9ef000ab"
      },
      "source": [
        "#Ejercicio_3\n",
        "\n",
        "#Escribir una función que reciba una muestra de números en una lista y devuelva su media.\n",
        "\n",
        "def numeros(lista_numeros):\n",
        "    \n",
        "    return sum(lista_numeros)/len(lista_numeros)\n",
        "\n",
        "print(numeros([1, 2, 3, 4, 5]))\n",
        "print(numeros([2.3, 5.7, 6.8, 9.7, 12.1, 15.6]))\n",
        "\n"
      ],
      "execution_count": 47,
      "outputs": [
        {
          "output_type": "stream",
          "text": [
            "3.0\n",
            "8.700000000000001\n"
          ],
          "name": "stdout"
        }
      ]
    },
    {
      "cell_type": "code",
      "metadata": {
        "colab": {
          "base_uri": "https://localhost:8080/"
        },
        "id": "H7wStOqiLF0M",
        "outputId": "c97e96af-fc14-4727-9336-b78471ba8dfb"
      },
      "source": [
        "#Ejercicio_4\n",
        "\n",
        "#Escribir una función que reciba una muestra de números en una lista y devuelva otra lista con sus cuadrados.\n",
        "\n",
        "def numeros(lista_numeros):\n",
        "   \n",
        "    list = []\n",
        "    for i in lista_numeros:\n",
        "        list.append(i**2)\n",
        "    return list\n",
        "\n",
        "print(numeros([1, 2, 3, 4, 5]))\n",
        "print(numeros([2.3, 5.7, 6.8, 9.7, 12.1, 15.6]))"
      ],
      "execution_count": 48,
      "outputs": [
        {
          "output_type": "stream",
          "text": [
            "[1, 4, 9, 16, 25]\n",
            "[5.289999999999999, 32.49, 46.239999999999995, 94.08999999999999, 146.41, 243.35999999999999]\n"
          ],
          "name": "stdout"
        }
      ]
    },
    {
      "cell_type": "code",
      "metadata": {
        "colab": {
          "base_uri": "https://localhost:8080/"
        },
        "id": "Nb4N5LkZMQcA",
        "outputId": "697dcdc6-ad29-418e-bf9b-c5fcfc1fcb31"
      },
      "source": [
        "#Ejercicio_5\n",
        "\n",
        "#Escribir una función que reciba una muestra de números en una lista y devuelva un diccionario con su media, varianza y desviación típica.\n",
        "\n",
        "def numeros(lista_numeros):\n",
        "   \n",
        "    list = []\n",
        "    for i in lista_numeros:\n",
        "        list.append(i**2)\n",
        "    return list\n",
        "\n",
        "def diccionario(lista_numeros):\n",
        "   \n",
        "    stat = {}\n",
        "    stat['media'] = sum(lista_numeros)/len(lista_numeros)\n",
        "    stat['varianza'] = sum(numeros(lista_numeros))/len(lista_numeros)-stat['media']**2\n",
        "    stat['desviacion tipica'] = stat['varianza']**0.5\n",
        "    return stat\n",
        "\n",
        "print(diccionario([1, 2, 3, 4, 5]))\n",
        "print(diccionario([2.3, 5.7, 6.8, 9.7, 12.1, 15.6]))"
      ],
      "execution_count": 49,
      "outputs": [
        {
          "output_type": "stream",
          "text": [
            "{'media': 3.0, 'varianza': 2.0, 'desviacion tipica': 1.4142135623730951}\n",
            "{'media': 8.700000000000001, 'varianza': 18.95666666666665, 'desviacion tipica': 4.353925431913901}\n"
          ],
          "name": "stdout"
        }
      ]
    },
    {
      "cell_type": "code",
      "metadata": {
        "colab": {
          "base_uri": "https://localhost:8080/"
        },
        "id": "kec-pElJNl61",
        "outputId": "fe5cf33d-20f3-4d2a-da0a-0daf437f7524"
      },
      "source": [
        "#Ejercicio_6\n",
        "\n",
        "#Escribir una función que calcule el máximo común divisor de dos números y otra que calcule el mínimo común múltiplo.\n",
        "\n",
        "def maximo(j, k):\n",
        "   \n",
        "    rest = 0\n",
        "    while(k > 0):\n",
        "        rest = k\n",
        "        k = j % k\n",
        "        j = rest\n",
        "    return j\n",
        "\n",
        "def minimo(j, k):\n",
        " \n",
        "    if j > k:\n",
        "        greater = j\n",
        "    else:\n",
        "        greater = k\n",
        "    while (greater % j != 0) or (greater % k != 0):\n",
        "        greater += 1\n",
        "    return greater\n",
        "\n",
        "print(maximo(24,36))\n",
        "print(minimo(24,36))"
      ],
      "execution_count": 50,
      "outputs": [
        {
          "output_type": "stream",
          "text": [
            "12\n",
            "72\n"
          ],
          "name": "stdout"
        }
      ]
    },
    {
      "cell_type": "code",
      "metadata": {
        "colab": {
          "base_uri": "https://localhost:8080/"
        },
        "id": "1DTcKKitPOMa",
        "outputId": "404ab888-576b-4538-d081-40bfbd50e426"
      },
      "source": [
        "#Ejercicio_7\n",
        "\n",
        "#Escribir una función que convierta un número decimal en binario y otra que convierta un número binario en decimal.\n",
        "\n",
        "def numero_decimal(j):\n",
        "  \n",
        "    j = list(j)\n",
        "    j.reverse()\n",
        "    decimal = 0\n",
        "    for i in range(len(j)):\n",
        "        decimal += int(j[i]) * 2 ** i\n",
        "    return decimal\n",
        "\n",
        "def numero_binario(j):\n",
        "  \n",
        "    binary = []\n",
        "    while j > 0:\n",
        "        binary.append(str(j % 2))\n",
        "        j //= 2\n",
        "    binary.reverse()\n",
        "    return ''.join(binary)\n",
        "\n",
        "print(numero_decimal('10110'))\n",
        "print(numero_binario(22))\n",
        "print(numero_decimal(numero_binario(22)))\n",
        "print(numero_binario(numero_decimal('10110')))"
      ],
      "execution_count": 51,
      "outputs": [
        {
          "output_type": "stream",
          "text": [
            "22\n",
            "10110\n",
            "22\n",
            "10110\n"
          ],
          "name": "stdout"
        }
      ]
    },
    {
      "cell_type": "code",
      "metadata": {
        "colab": {
          "base_uri": "https://localhost:8080/"
        },
        "id": "4cpMjOTTQvn4",
        "outputId": "337d7036-69c0-4e62-c3ad-512e19c34307"
      },
      "source": [
        "#Ejercicio_8\n",
        "\n",
        "#Escribir un programa que reciba una cadena de caracteres y devuelva un diccionario con cada palabra que contiene y su frecuencia. \n",
        "#Escribir otra función que reciba el diccionario generado con la función anterior y\n",
        "# devuelva una tupla con la palabra más repetida y su frecuencia.\n",
        "\n",
        "\n",
        "def contador_de_palabras(mensaje):\n",
        "  \n",
        "    mensaje = mensaje.split()\n",
        "    palabras = {}\n",
        "    for i in mensaje:\n",
        "        if i in palabras:\n",
        "            palabras[i] += 1\n",
        "        else:\n",
        "            palabras[i] = 1\n",
        "    return palabras\n",
        "\n",
        "def mas_repetida(palabras):\n",
        "    maximo_palabras = ''\n",
        "    maximo_frecuencia = 0\n",
        "    for palabras, frecuencia in palabras.items():\n",
        "        if frecuencia > maximo_frecuencia:\n",
        "            maximo_palabras = palabras\n",
        "            maximo_frecuencia = frecuencia\n",
        "    return maximo_palabras, maximo_frecuencia\n",
        "\n",
        "mensaje = 'Me han dicho que he dicho un dicho y ese dicho no lo he dicho yo. Porque si lo hubiera dicho, estaría muy bien dicho por haberlo dicho yo.'\n",
        "print(contador_de_palabras(mensaje))\n",
        "print(mas_repetida(contador_de_palabras(mensaje)))\n",
        "\n"
      ],
      "execution_count": 52,
      "outputs": [
        {
          "output_type": "stream",
          "text": [
            "{'Me': 1, 'han': 1, 'dicho': 7, 'que': 1, 'he': 2, 'un': 1, 'y': 1, 'ese': 1, 'no': 1, 'lo': 2, 'yo.': 2, 'Porque': 1, 'si': 1, 'hubiera': 1, 'dicho,': 1, 'estaría': 1, 'muy': 1, 'bien': 1, 'por': 1, 'haberlo': 1}\n",
            "('dicho', 7)\n"
          ],
          "name": "stdout"
        }
      ]
    }
  ]
}