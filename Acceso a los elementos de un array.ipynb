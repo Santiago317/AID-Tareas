{
  "nbformat": 4,
  "nbformat_minor": 0,
  "metadata": {
    "colab": {
      "name": "Untitled6.ipynb",
      "provenance": [],
      "authorship_tag": "ABX9TyPSWxrxxs8hhYIaJWmAYixU",
      "include_colab_link": true
    },
    "kernelspec": {
      "name": "python3",
      "display_name": "Python 3"
    },
    "language_info": {
      "name": "python"
    }
  },
  "cells": [
    {
      "cell_type": "markdown",
      "metadata": {
        "id": "view-in-github",
        "colab_type": "text"
      },
      "source": [
        "<a href=\"https://colab.research.google.com/github/Santiago317/AID-Tareas/blob/main/Acceso%20a%20los%20elementos%20de%20un%20array.ipynb\" target=\"_parent\"><img src=\"https://colab.research.google.com/assets/colab-badge.svg\" alt=\"Open In Colab\"/></a>"
      ]
    },
    {
      "cell_type": "code",
      "metadata": {
        "colab": {
          "base_uri": "https://localhost:8080/"
        },
        "id": "jQy7CPh_f8pG",
        "outputId": "07156101-86f1-4f81-8dcd-dcd939699420"
      },
      "source": [
        "#Acceso a los elementos de un array\n",
        "import numpy as np\n",
        "\n",
        "a = np.array([[1,2,3], [4,5,6]])\n",
        "print(a[1,0])\n",
        "print(a[1][0])\n",
        "print(a[:, 0:2])"
      ],
      "execution_count": 2,
      "outputs": [
        {
          "output_type": "stream",
          "text": [
            "4\n",
            "4\n",
            "[[1 2]\n",
            " [4 5]]\n"
          ],
          "name": "stdout"
        }
      ]
    },
    {
      "cell_type": "code",
      "metadata": {
        "colab": {
          "base_uri": "https://localhost:8080/"
        },
        "id": "mRXen5UAlasQ",
        "outputId": "3b046ada-a053-4a3e-81a2-8493ab38a2a0"
      },
      "source": [
        "#Filtrado de elementos de un array\n",
        "\n",
        "\n",
        "a = np.array([[1,2,3], [4,5,6]])\n",
        "print(a[(a % 2 >= 1)])\n",
        "print(a[(a % 2 <= 6 ) & (a > 2)])"
      ],
      "execution_count": 14,
      "outputs": [
        {
          "output_type": "stream",
          "text": [
            "[1 3 5]\n",
            "[3 4 5 6]\n"
          ],
          "name": "stdout"
        }
      ]
    },
    {
      "cell_type": "code",
      "metadata": {
        "colab": {
          "base_uri": "https://localhost:8080/"
        },
        "id": "ZplIRiYZqeIJ",
        "outputId": "a7230526-f007-46ea-a223-b3e9ec46633b"
      },
      "source": [
        "a = np.array ([[1,2,3], [4,5,6]])\n",
        "b = np.array ([[1,1,1], [2,2,2]])\n",
        "print(a + b)\n",
        "\n",
        "print(a / b)\n",
        "\n",
        "print(a ** 2)\n"
      ],
      "execution_count": 17,
      "outputs": [
        {
          "output_type": "stream",
          "text": [
            "[[2 3 4]\n",
            " [6 7 8]]\n",
            "[[1.  2.  3. ]\n",
            " [2.  2.5 3. ]]\n",
            "[[ 1  4  9]\n",
            " [16 25 36]]\n"
          ],
          "name": "stdout"
        }
      ]
    },
    {
      "cell_type": "code",
      "metadata": {
        "colab": {
          "base_uri": "https://localhost:8080/"
        },
        "id": "NPObVzdcxJnc",
        "outputId": "68ebc199-e50f-4c3a-be8a-bf87596e874a"
      },
      "source": [
        "#Operaciones matematicas a nivel de array\n",
        "\n",
        "a = np.array ([[1,2,3], [4,5,6]])\n",
        "b = np.array ([[1,1], [2,2], [3,3]])\n",
        "\n",
        "print(a.dot(b))\n",
        "\n",
        "print(a.T)"
      ],
      "execution_count": 19,
      "outputs": [
        {
          "output_type": "stream",
          "text": [
            "[[14 14]\n",
            " [32 32]]\n",
            "[[1 4]\n",
            " [2 5]\n",
            " [3 6]]\n"
          ],
          "name": "stdout"
        }
      ]
    }
  ]
}