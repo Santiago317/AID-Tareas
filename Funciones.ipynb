{
  "nbformat": 4,
  "nbformat_minor": 0,
  "metadata": {
    "colab": {
      "name": "Untitled0.ipynb",
      "provenance": [],
      "authorship_tag": "ABX9TyNz9DJlCKVxOdhBA0v/r14R",
      "include_colab_link": true
    },
    "kernelspec": {
      "name": "python3",
      "display_name": "Python 3"
    },
    "language_info": {
      "name": "python"
    }
  },
  "cells": [
    {
      "cell_type": "markdown",
      "metadata": {
        "id": "view-in-github",
        "colab_type": "text"
      },
      "source": [
        "<a href=\"https://colab.research.google.com/github/Santiago317/AID-Tareas/blob/main/Funciones.ipynb\" target=\"_parent\"><img src=\"https://colab.research.google.com/assets/colab-badge.svg\" alt=\"Open In Colab\"/></a>"
      ]
    },
    {
      "cell_type": "code",
      "metadata": {
        "id": "11yn1h5_uVh1"
      },
      "source": [
        "#Declaracion de Funciones\n",
        "\n",
        "#Funcion sin parametros\n",
        "def funcion1 ():\n",
        "    #Contenido de la funcion\n",
        "    print ('Haz llamado a la funcion 1')\n",
        "\n",
        "\n",
        "#Funcion con parametros y retorno\n",
        "def funcion2 (a,b):\n",
        "    #Contenido de la funcion\n",
        "    #Esto realiza la suma de esta función\n",
        "    c= int (a) + int (b)\n",
        "    return c"
      ],
      "execution_count": null,
      "outputs": []
    },
    {
      "cell_type": "code",
      "metadata": {
        "id": "AR5F3QcqucmE"
      },
      "source": [
        "#Llamamos las funciones declaradas en otro archivo\n",
        "from FuncionesExternas import *\n",
        "\n",
        "#Invocamos las funciones\n",
        "funcion1()\n",
        "#Invocamos la otra funcion\n",
        "Q = input ('Introduzca un dato: ')\n",
        "W = input ('Introduzca otro dato: ')\n",
        "print(funcion2 (Q, W) )"
      ],
      "execution_count": null,
      "outputs": []
    }
  ]
}