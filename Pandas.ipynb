{
  "nbformat": 4,
  "nbformat_minor": 0,
  "metadata": {
    "colab": {
      "name": "Untitled7.ipynb",
      "provenance": [],
      "authorship_tag": "ABX9TyMk/hgyzcfPscT0T+0SmSzp",
      "include_colab_link": true
    },
    "kernelspec": {
      "name": "python3",
      "display_name": "Python 3"
    },
    "language_info": {
      "name": "python"
    }
  },
  "cells": [
    {
      "cell_type": "markdown",
      "metadata": {
        "id": "view-in-github",
        "colab_type": "text"
      },
      "source": [
        "<a href=\"https://colab.research.google.com/github/Santiago317/AID-Tareas/blob/main/Pandas.ipynb\" target=\"_parent\"><img src=\"https://colab.research.google.com/assets/colab-badge.svg\" alt=\"Open In Colab\"/></a>"
      ]
    },
    {
      "cell_type": "code",
      "metadata": {
        "colab": {
          "base_uri": "https://localhost:8080/"
        },
        "id": "4bTR6gCy_RvT",
        "outputId": "db89b91d-4bf8-446c-fee3-b26ccb2247ad"
      },
      "source": [
        "#Creación de una serie a partir de una lista con PANDAS\n",
        "\n",
        "import pandas as pd\n",
        "\n",
        "s = pd.Series(['Matemáticas', 'Historia', 'Economia', 'Programación', 'Ingles'], dtype='string')\n",
        "\n",
        "print(s)"
      ],
      "execution_count": 1,
      "outputs": [
        {
          "output_type": "stream",
          "text": [
            "0     Matemáticas\n",
            "1        Historia\n",
            "2        Economia\n",
            "3    Programación\n",
            "4          Ingles\n",
            "dtype: string\n"
          ],
          "name": "stdout"
        }
      ]
    },
    {
      "cell_type": "code",
      "metadata": {
        "colab": {
          "base_uri": "https://localhost:8080/"
        },
        "id": "VOe3PT_GBjxk",
        "outputId": "71435dea-1132-4fc3-dc8a-67e11e801cde"
      },
      "source": [
        "#Creación de una serie a travez de un diccionario con pandas\n",
        "\n",
        "import pandas as pd\n",
        "\n",
        "s = pd.Series({'Matemáticas': 6.0, 'Economia': 4.5, 'Programación': 8.5})\n",
        "\n",
        "print(s)"
      ],
      "execution_count": 13,
      "outputs": [
        {
          "output_type": "stream",
          "text": [
            "Matemáticas     6.0\n",
            "Economia        4.5\n",
            "Programación    8.5\n",
            "dtype: float64\n"
          ],
          "name": "stdout"
        }
      ]
    },
    {
      "cell_type": "code",
      "metadata": {
        "colab": {
          "base_uri": "https://localhost:8080/"
        },
        "id": "Fe-ptS_vGHVS",
        "outputId": "67d5dc99-aed1-4979-d5aa-2b26a4fa93b7"
      },
      "source": [
        "#Acceso por indice\n",
        "s[1:3]"
      ],
      "execution_count": 14,
      "outputs": [
        {
          "output_type": "execute_result",
          "data": {
            "text/plain": [
              "Economia        4.5\n",
              "Programación    8.5\n",
              "dtype: float64"
            ]
          },
          "metadata": {
            "tags": []
          },
          "execution_count": 14
        }
      ]
    },
    {
      "cell_type": "code",
      "metadata": {
        "colab": {
          "base_uri": "https://localhost:8080/"
        },
        "id": "t07MqH2kGOXG",
        "outputId": "93717a91-fc28-4cc0-f8ae-1c57a356aaf1"
      },
      "source": [
        "s['Economia']"
      ],
      "execution_count": 15,
      "outputs": [
        {
          "output_type": "execute_result",
          "data": {
            "text/plain": [
              "4.5"
            ]
          },
          "metadata": {
            "tags": []
          },
          "execution_count": 15
        }
      ]
    },
    {
      "cell_type": "code",
      "metadata": {
        "colab": {
          "base_uri": "https://localhost:8080/"
        },
        "id": "UAHkLkj5GToR",
        "outputId": "2971a63b-d06e-406a-9868-445f1e73642b"
      },
      "source": [
        "s[['Programación', 'Matemáticas']]"
      ],
      "execution_count": 16,
      "outputs": [
        {
          "output_type": "execute_result",
          "data": {
            "text/plain": [
              "Programación    8.5\n",
              "Matemáticas     6.0\n",
              "dtype: float64"
            ]
          },
          "metadata": {
            "tags": []
          },
          "execution_count": 16
        }
      ]
    },
    {
      "cell_type": "code",
      "metadata": {
        "colab": {
          "base_uri": "https://localhost:8080/"
        },
        "id": "HxSaQ8FNC_0V",
        "outputId": "f88d5996-4bd1-4768-871c-3d4dd4c7243a"
      },
      "source": [
        "#Atributos de una serie con PANDAS\n",
        "\n",
        "import pandas as pd\n",
        "\n",
        "s = pd.Series([1, 2, 2, 3, 3, 3, 4, 4, 4, 4])\n",
        "s.size\n",
        "\n"
      ],
      "execution_count": 5,
      "outputs": [
        {
          "output_type": "execute_result",
          "data": {
            "text/plain": [
              "10"
            ]
          },
          "metadata": {
            "tags": []
          },
          "execution_count": 5
        }
      ]
    },
    {
      "cell_type": "code",
      "metadata": {
        "colab": {
          "base_uri": "https://localhost:8080/"
        },
        "id": "gCVAbfTLD9A2",
        "outputId": "b1a6a77b-aa7e-4eae-90d5-3775bc559087"
      },
      "source": [
        "\n",
        "s.index"
      ],
      "execution_count": 8,
      "outputs": [
        {
          "output_type": "execute_result",
          "data": {
            "text/plain": [
              "RangeIndex(start=0, stop=10, step=1)"
            ]
          },
          "metadata": {
            "tags": []
          },
          "execution_count": 8
        }
      ]
    },
    {
      "cell_type": "code",
      "metadata": {
        "colab": {
          "base_uri": "https://localhost:8080/"
        },
        "id": "XSfH3F4LEAc7",
        "outputId": "78dd8321-e98e-49c8-8057-74fdc66e03c0"
      },
      "source": [
        "\n",
        "s.dtype"
      ],
      "execution_count": 9,
      "outputs": [
        {
          "output_type": "execute_result",
          "data": {
            "text/plain": [
              "dtype('int64')"
            ]
          },
          "metadata": {
            "tags": []
          },
          "execution_count": 9
        }
      ]
    },
    {
      "cell_type": "code",
      "metadata": {
        "colab": {
          "base_uri": "https://localhost:8080/"
        },
        "id": "LYfWnBu3G4RM",
        "outputId": "2837bc71-798c-4ca9-9fbd-ea99a8a6decc"
      },
      "source": [
        "#Resumen descriptivo de una serie\n",
        "\n",
        "import pandas as pd\n",
        "s = pd.Series([1, 1, 1, 1, 2, 2, 2, 3, 3, 4])\n",
        "s.count()\n"
      ],
      "execution_count": 20,
      "outputs": [
        {
          "output_type": "execute_result",
          "data": {
            "text/plain": [
              "10"
            ]
          },
          "metadata": {
            "tags": []
          },
          "execution_count": 20
        }
      ]
    },
    {
      "cell_type": "code",
      "metadata": {
        "colab": {
          "base_uri": "https://localhost:8080/"
        },
        "id": "4sLktzUyHwRD",
        "outputId": "e487b59b-181e-46f9-f4b2-55d356009576"
      },
      "source": [
        "s.sum()"
      ],
      "execution_count": 19,
      "outputs": [
        {
          "output_type": "execute_result",
          "data": {
            "text/plain": [
              "20"
            ]
          },
          "metadata": {
            "tags": []
          },
          "execution_count": 19
        }
      ]
    },
    {
      "cell_type": "code",
      "metadata": {
        "colab": {
          "base_uri": "https://localhost:8080/"
        },
        "id": "AQV4-YB1H64t",
        "outputId": "9d7fe2e0-6226-41ab-aea6-ee2c794ef158"
      },
      "source": [
        "s.cumsum()"
      ],
      "execution_count": 22,
      "outputs": [
        {
          "output_type": "execute_result",
          "data": {
            "text/plain": [
              "0     1\n",
              "1     2\n",
              "2     3\n",
              "3     4\n",
              "4     6\n",
              "5     8\n",
              "6    10\n",
              "7    13\n",
              "8    16\n",
              "9    20\n",
              "dtype: int64"
            ]
          },
          "metadata": {
            "tags": []
          },
          "execution_count": 22
        }
      ]
    },
    {
      "cell_type": "code",
      "metadata": {
        "colab": {
          "base_uri": "https://localhost:8080/"
        },
        "id": "nWCbNsQNIG7k",
        "outputId": "d8ca7e0b-6e6a-4224-b5fd-f3c1d0d7aceb"
      },
      "source": [
        "s.value_counts()"
      ],
      "execution_count": 23,
      "outputs": [
        {
          "output_type": "execute_result",
          "data": {
            "text/plain": [
              "1    4\n",
              "2    3\n",
              "3    2\n",
              "4    1\n",
              "dtype: int64"
            ]
          },
          "metadata": {
            "tags": []
          },
          "execution_count": 23
        }
      ]
    },
    {
      "cell_type": "code",
      "metadata": {
        "colab": {
          "base_uri": "https://localhost:8080/"
        },
        "id": "AM3nXKbfILqC",
        "outputId": "258619da-2ccb-496c-c1be-a0b1a4a69de1"
      },
      "source": [
        "s.min()"
      ],
      "execution_count": 25,
      "outputs": [
        {
          "output_type": "execute_result",
          "data": {
            "text/plain": [
              "1"
            ]
          },
          "metadata": {
            "tags": []
          },
          "execution_count": 25
        }
      ]
    },
    {
      "cell_type": "code",
      "metadata": {
        "colab": {
          "base_uri": "https://localhost:8080/"
        },
        "id": "Ohf93jqSITqJ",
        "outputId": "aa915085-814d-4805-e375-b34d48215043"
      },
      "source": [
        "s.max()"
      ],
      "execution_count": 27,
      "outputs": [
        {
          "output_type": "execute_result",
          "data": {
            "text/plain": [
              "4"
            ]
          },
          "metadata": {
            "tags": []
          },
          "execution_count": 27
        }
      ]
    },
    {
      "cell_type": "code",
      "metadata": {
        "colab": {
          "base_uri": "https://localhost:8080/"
        },
        "id": "9yR3TvQPIagu",
        "outputId": "a5052eb9-2d05-493f-80c7-7e8509f91c29"
      },
      "source": [
        "s.std()"
      ],
      "execution_count": 28,
      "outputs": [
        {
          "output_type": "execute_result",
          "data": {
            "text/plain": [
              "1.0540925533894598"
            ]
          },
          "metadata": {
            "tags": []
          },
          "execution_count": 28
        }
      ]
    },
    {
      "cell_type": "code",
      "metadata": {
        "colab": {
          "base_uri": "https://localhost:8080/"
        },
        "id": "suD6M_YCIddc",
        "outputId": "02ab2e05-f63d-4c55-f808-64e213716d8b"
      },
      "source": [
        "\n",
        "s.describe()"
      ],
      "execution_count": 29,
      "outputs": [
        {
          "output_type": "execute_result",
          "data": {
            "text/plain": [
              "count    10.000000\n",
              "mean      2.000000\n",
              "std       1.054093\n",
              "min       1.000000\n",
              "25%       1.000000\n",
              "50%       2.000000\n",
              "75%       2.750000\n",
              "max       4.000000\n",
              "dtype: float64"
            ]
          },
          "metadata": {
            "tags": []
          },
          "execution_count": 29
        }
      ]
    },
    {
      "cell_type": "code",
      "metadata": {
        "colab": {
          "base_uri": "https://localhost:8080/"
        },
        "id": "BjxQN7coI-dW",
        "outputId": "dd8d8204-92c7-409c-974c-0cee13e90176"
      },
      "source": [
        "import pandas as pd\n",
        "\n",
        "from math import log\n",
        "\n",
        "s = pd.Series([1, 2, 3, 4])\n",
        "s.apply(log)"
      ],
      "execution_count": 32,
      "outputs": [
        {
          "output_type": "execute_result",
          "data": {
            "text/plain": [
              "0    0.000000\n",
              "1    0.693147\n",
              "2    1.098612\n",
              "3    1.386294\n",
              "dtype: float64"
            ]
          },
          "metadata": {
            "tags": []
          },
          "execution_count": 32
        }
      ]
    },
    {
      "cell_type": "code",
      "metadata": {
        "colab": {
          "base_uri": "https://localhost:8080/"
        },
        "id": "NwYvK_CsK5Qk",
        "outputId": "45451e7a-24db-43e9-d070-f7e7afbc6e8a"
      },
      "source": [
        "import pandas as pd\n",
        "\n",
        "s = pd.Series({'Matemáticas' :6.0, 'Economia' : 4.5, 'Programación' : 8.5 })\n",
        "print(s[s> 5])\n"
      ],
      "execution_count": 33,
      "outputs": [
        {
          "output_type": "stream",
          "text": [
            "Matemáticas     6.0\n",
            "Programación    8.5\n",
            "dtype: float64\n"
          ],
          "name": "stdout"
        }
      ]
    },
    {
      "cell_type": "code",
      "metadata": {
        "colab": {
          "base_uri": "https://localhost:8080/"
        },
        "id": "farjjPh4MFj5",
        "outputId": "f6d3a537-66a6-40ca-e2e2-f6a9bc002eec"
      },
      "source": [
        "import pandas as pd\n",
        "\n",
        "s = pd.Series({'Matemáticas' :6.0, 'Economia' : 4.5, 'Programación' : 8.5 })\n",
        "print(s.sort_values())"
      ],
      "execution_count": 35,
      "outputs": [
        {
          "output_type": "stream",
          "text": [
            "Economia        4.5\n",
            "Matemáticas     6.0\n",
            "Programación    8.5\n",
            "dtype: float64\n"
          ],
          "name": "stdout"
        }
      ]
    },
    {
      "cell_type": "code",
      "metadata": {
        "id": "S-vCBcMvMT-E"
      },
      "source": [
        ""
      ],
      "execution_count": null,
      "outputs": []
    }
  ]
}