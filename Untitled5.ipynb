{
  "nbformat": 4,
  "nbformat_minor": 0,
  "metadata": {
    "colab": {
      "name": "Untitled5.ipynb",
      "provenance": [],
      "authorship_tag": "ABX9TyPc3sBKxpJqIiPUfz+nYJCP",
      "include_colab_link": true
    },
    "kernelspec": {
      "name": "python3",
      "display_name": "Python 3"
    },
    "language_info": {
      "name": "python"
    }
  },
  "cells": [
    {
      "cell_type": "markdown",
      "metadata": {
        "id": "view-in-github",
        "colab_type": "text"
      },
      "source": [
        "<a href=\"https://colab.research.google.com/github/Santiago317/AID-Tareas/blob/main/Untitled5.ipynb\" target=\"_parent\"><img src=\"https://colab.research.google.com/assets/colab-badge.svg\" alt=\"Open In Colab\"/></a>"
      ]
    },
    {
      "cell_type": "code",
      "metadata": {
        "colab": {
          "base_uri": "https://localhost:8080/"
        },
        "id": "XVqx1ZLG75PV",
        "outputId": "b510403c-414e-4f8c-dc3f-2a78d5601e7f"
      },
      "source": [
        "#Escribir un programa que acceda a un fichero de internet mediante su url y muestre por pantalla el número de palabras que contiene.\n",
        "\n",
        "\n",
        "def fichero (url):\n",
        "    \n",
        "    from urllib import request\n",
        "    from urllib.error import URLError\n",
        "    try:\n",
        "        file = request.urlopen(url)\n",
        "    except URLError:\n",
        "        return('¡La url ' + url + ' no existe!')\n",
        "    else:\n",
        "        content = file.read()\n",
        "        return len(content.split())\n",
        "\n",
        "print(fichero('https://es.wikipedia.org/wiki/Dimitri_Vegas_%26_Like_Mike'))"
      ],
      "execution_count": 4,
      "outputs": [
        {
          "output_type": "stream",
          "text": [
            "15129\n"
          ],
          "name": "stdout"
        }
      ]
    },
    {
      "cell_type": "code",
      "metadata": {
        "colab": {
          "base_uri": "https://localhost:8080/"
        },
        "id": "Vgi9lZVq8mGm",
        "outputId": "122ca011-7f15-4dc7-e43b-99f2e8b0df36"
      },
      "source": [
        "#2.-Escribir un programa que abra el fichero con información sobre el PIB per cápita de los países de la Unión Europea \n",
        "#(url:https://ec.europa.eu/eurostat/estat-navtree-portlet-prod/BulkDownloadListing?file=data/sdg_08_10.tsv.gz&unzip=true),\n",
        "#pregunte por las iniciales de un país y muestre el PIB per cápita de ese país de todos los años disponibles.\n",
        "\n",
        "def fichero (url, country='ES'):\n",
        "   \n",
        "    from urllib import request\n",
        "    from urllib.error import URLError\n",
        "    try:\n",
        "        url = request.urlopen(url)\n",
        "    except URLError:\n",
        "        return('¡La url ' + url + ' no existe!')\n",
        "    else:\n",
        "        data = url.read().decode('utf-8').split('\\n')\n",
        "        data = [i.split('\\t') for i in data] \n",
        "        data = [list(map(str.strip, i)) for i in data]\n",
        "        for i in data:\n",
        "            i[0] = i[0].split(',')[-1] \n",
        "        data[0][0] = 'años'\n",
        "        data = {i[0]:i[1:] for i in data}\n",
        "        result = {data['años'][i]:data[country][i] for i in range(len(data['años']))}\n",
        "        return result\n",
        "\n",
        "country = input('Por favor, ingrese un código país: ')\n",
        "print('PIB deL pais no. :', country)\n",
        "print('Año', '\\t', 'PIB')\n",
        "for años, pib in fichero('https://ec.europa.eu/eurostat/estat-navtree-portlet-prod/BulkDownloadListing?file=data/sdg_08_10.tsv.gz&unzip=true').items():\n",
        "    print(años, '\\t', pib)"
      ],
      "execution_count": 7,
      "outputs": [
        {
          "output_type": "stream",
          "text": [
            "Por favor, ingrese un código país: 8\n",
            "PIB deL pais no. : 8\n",
            "Año \t PIB\n",
            "2000 \t 21460\n",
            "2001 \t 22190\n",
            "2002 \t 22430\n",
            "2003 \t 22680\n",
            "2004 \t 23020\n",
            "2005 \t 23420\n",
            "2006 \t 24000\n",
            "2007 \t 24380\n",
            "2008 \t 24200\n",
            "2009 \t 23100\n",
            "2010 \t 23040\n",
            "2011 \t 22770\n",
            "2012 \t 22080\n",
            "2013 \t 21840\n",
            "2014 \t 22210\n",
            "2015 \t 23080\n",
            "2016 \t 23760\n",
            "2017 \t 24430\n",
            "2018 \t 24910 p\n",
            "2019 \t 25200 p\n",
            "2020 \t 22350 p\n"
          ],
          "name": "stdout"
        }
      ]
    },
    {
      "cell_type": "code",
      "metadata": {
        "colab": {
          "base_uri": "https://localhost:8080/"
        },
        "id": "CfYGJRro-WOY",
        "outputId": "58ea780d-0ae5-4d36-ef15-ade03f80ce19"
      },
      "source": [
        "#Escribir un programa para gestionar un listín telefónico con los nombres y los teléfonos de los clientes de una empresa. \n",
        "#El programa incorporar funciones crear el fichero con el listín si no existe, para consultar el teléfono de un cliente, añadir el teléfono de un nuevo cliente y eliminar el teléfono de un cliente. \n",
        "#El listín debe estar guardado en el fichero de texto listin.txt\n",
        "#donde el nombre del cliente y su teléfono deben aparecer separados por comas y cada cliente en una línea distinta.\n",
        "\n",
        "\n",
        "\n",
        "def program(file, client):\n",
        "    \n",
        "    try: \n",
        "        archivo = open(file, 'r')\n",
        "    except FileNotFoundError:\n",
        "        return('¡El fichero ' + file + ' no existe!\\n')\n",
        "    else:\n",
        "        directory = archivo.readlines()\n",
        "        archivo.close()\n",
        "        directory = dict([tuple(line.split(',')) for line in directory])\n",
        "        if client in directory:\n",
        "            return directory[client]\n",
        "        else:\n",
        "            return('¡El cliente ' + client + ' no existe!\\n')\n",
        "\n",
        "\n",
        "def añadir(file, client, telf):\n",
        "   \n",
        "    try: \n",
        "        archivo = open(file, 'a')\n",
        "    except FileNotFoundError:\n",
        "        return('¡El fichero ' + file + ' no existe!\\n')\n",
        "    else:\n",
        "        archivo.write(client + ',' + telf + '\\n')\n",
        "        archivo.close()\n",
        "        return('El teléfono se ha añadido.\\n')\n",
        "\n",
        "def eliminar(file, client):\n",
        "    \n",
        "    try: \n",
        "        archivo = open(file, 'r')\n",
        "    except FileNotFoundError:\n",
        "        return('¡El fichero ' + file + ' no existe!\\n')\n",
        "    else:\n",
        "        directory = archivo.readlines()\n",
        "        archivo.close()\n",
        "        directory = dict([tuple(line.split(',')) for line in directory])\n",
        "        if client in directory:\n",
        "            del directory[client]\n",
        "            archivo = open(file, 'w')\n",
        "            for name, telf in directory.items():\n",
        "                archivo.write(name + ',' + telf)\n",
        "            archivo.close()\n",
        "            return ('¡El cliente se ha borrado!\\n')\n",
        "        else:\n",
        "            return('¡El cliente ' + client + ' no existe!\\n')\n",
        "\n",
        "\n",
        "def crear(file):\n",
        "   \n",
        "    import os\n",
        "    if os.path.isfile(file):\n",
        "        answer = input('El fichero ' + file + ' ya existe. ¿Desea vaciarlo (S/N)? ')\n",
        "        if answer == 'N': \n",
        "            return 'No se ha creado el fichero porque ya existe.\\n'\n",
        "    archivo = open(file, 'w')\n",
        "    archivo.close()\n",
        "    return 'Se ha creado el fichero.\\n'\n",
        "     \n",
        "\n",
        "def menu():\n",
        "    \n",
        "    print('Gesión del listín telefónico')\n",
        "    print('============================')\n",
        "    print('1 - Consultar teléfono')\n",
        "    print('2 - Añadir teléfono')\n",
        "    print('3 - Eliminar un teléfono')\n",
        "    print('4 - Crear el listín')\n",
        "    print('0 - Terminar')\n",
        "    option = input('Seleccione una opción para continuar, por favor : ')\n",
        "    return option\n",
        "\n",
        "\n",
        "def directory():\n",
        "    file = 'listin.txt' \n",
        "    while True:\n",
        "        option = menu()\n",
        "        if option == '1':\n",
        "            name = input('Ingrese el nombre del cliente, porfavor: ')\n",
        "            print(program(file, name))\n",
        "        elif option == '2':\n",
        "            name = input('Ingrese el nombre del cliente, porfavor: ')\n",
        "            telf = input('Ingrese el teléfono del cliente, porfavor: ')\n",
        "            print(añadir(file, name, telf))\n",
        "        elif option == '3':\n",
        "            name = input('Ingrese el nombre del cliente, porfavor: ')\n",
        "            print(eliminar(file, name))\n",
        "        elif option == '4':\n",
        "            print(crear(file))\n",
        "        else:\n",
        "            break\n",
        "    return\n",
        "\n",
        "directory()\n"
      ],
      "execution_count": 13,
      "outputs": [
        {
          "output_type": "stream",
          "text": [
            "Gesión del listín telefónico\n",
            "============================\n",
            "1 - Consultar teléfono\n",
            "2 - Añadir teléfono\n",
            "3 - Eliminar un teléfono\n",
            "4 - Crear el listín\n",
            "0 - Terminar\n",
            "Seleccione una opción para continuar, por favor : 2\n",
            "Ingrese el nombre del cliente, porfavor: Ruben Santiago Gamboa Moguel\n",
            "Ingrese el teléfono del cliente, porfavor: 9999345670\n",
            "El teléfono se ha añadido.\n",
            "\n",
            "Gesión del listín telefónico\n",
            "============================\n",
            "1 - Consultar teléfono\n",
            "2 - Añadir teléfono\n",
            "3 - Eliminar un teléfono\n",
            "4 - Crear el listín\n",
            "0 - Terminar\n",
            "Seleccione una opción para continuar, por favor : 0\n"
          ],
          "name": "stdout"
        }
      ]
    },
    {
      "cell_type": "code",
      "metadata": {
        "colab": {
          "base_uri": "https://localhost:8080/"
        },
        "id": "kHhqW7o5Eryf",
        "outputId": "4632acfd-9e5e-40a9-b1c5-349400b8f600"
      },
      "source": [
        "#Escribir una función que aplique un descuento a un precio y otra que aplique el IVA a un precio.\n",
        "#Escribir una tercera función que reciba un diccionario con los precios y porcentajes de una cesta de la compra,\n",
        "#y una de las funciones anteriores, y utilice la función pasada para aplicar los descuentos o el IVA a los productos de la cesta y devolver el precio final de la cesta.\n",
        "\n",
        "def descuento(precio, discount):\n",
        "  \n",
        "    return precio - precio * discount / 100\n",
        "    \n",
        "def iva(precio, porcentaje):\n",
        "   \n",
        "    return precio + precio * porcentaje / 100\n",
        "\n",
        "def precio_cesta(basket, function):\n",
        "   \n",
        "    total = 0\n",
        "    for precio, discount in basket.items():\n",
        "        total += function(precio, discount)\n",
        "    return total\n",
        "\n",
        "print('El precio de la compra con descuentos es: ', precio({1000:20, 500:10, 100:1}, descuento ))\n",
        "print('El precio de la compra con el IVA es: ', precio({1000:20, 500:10, 100:1}, iva))"
      ],
      "execution_count": 23,
      "outputs": [
        {
          "output_type": "stream",
          "text": [
            "El precio de la compra con descuentos es:  1349.0\n",
            "El precio de la compra con el IVA es:  1851.0\n"
          ],
          "name": "stdout"
        }
      ]
    },
    {
      "cell_type": "code",
      "metadata": {
        "colab": {
          "base_uri": "https://localhost:8080/"
        },
        "id": "M2E6NCYFHmqu",
        "outputId": "fce8331a-450d-49ef-f50c-353dc98df5f0"
      },
      "source": [
        "#Escribir una función que simule una calculadora científica que permita calcular el seno, coseno, tangente, exponencial y logaritmo neperiano. \n",
        "#La función preguntará al usuario el valor y la función a aplicar, \n",
        "#y mostrará por pantalla una tabla con los enteros de 1 al valor introducido y el resultado de aplicar la función a esos enteros.\n",
        "\n",
        "from math import sin, cos, tan, exp, log\n",
        "\n",
        "def funcion_matematica(f, n):\n",
        "    \n",
        "    funcion = {'sin':sin, 'cos':cos, 'tan':tan, 'exp':exp, 'log':log}\n",
        "    result = {}\n",
        "    for i in range(1, n+1):\n",
        "        result[i] = funcion[f](i)\n",
        "    return result\n",
        "\n",
        "def calculator():\n",
        "    \n",
        "    f = input('Seleccione una funcion matematica a aplicar, por favor (sin, cos, tan, exp, log): ')\n",
        "    n = int(input('Ingrese un entero positivo, por favor: '))\n",
        "    for i, j in funcion_matematica(f, n).items():\n",
        "        print (i, '\\t', j)\n",
        "    return\n",
        "\n",
        "calculator()"
      ],
      "execution_count": 25,
      "outputs": [
        {
          "output_type": "stream",
          "text": [
            "Seleccione una funcion matematica a aplicar, por favor (sin, cos, tan, exp, log): log\n",
            "Ingrese un entero positivo, por favor: 7\n",
            "1 \t 0.0\n",
            "2 \t 0.6931471805599453\n",
            "3 \t 1.0986122886681098\n",
            "4 \t 1.3862943611198906\n",
            "5 \t 1.6094379124341003\n",
            "6 \t 1.791759469228055\n",
            "7 \t 1.9459101490553132\n"
          ],
          "name": "stdout"
        }
      ]
    },
    {
      "cell_type": "code",
      "metadata": {
        "colab": {
          "base_uri": "https://localhost:8080/"
        },
        "id": "vJ3b_a2_ItDg",
        "outputId": "8509d18d-8a46-44ed-ed69-0a1b9c7a61d0"
      },
      "source": [
        "#Escribir una función reciba una lista de notas y devuelva la lista de calificaciones correspondientes a esas notas.\n",
        "\n",
        "def calificaciones(score):\n",
        "    \n",
        "    if score < 5:\n",
        "        return 'Reprobado'\n",
        "    elif score < 7:\n",
        "        return 'Aprobado'\n",
        "    elif score < 9:\n",
        "        return 'Excelente'\n",
        "    elif score < 10:\n",
        "        return 'Perfecto'\n",
        "    else:\n",
        "        return ''\n",
        "\n",
        "def applicar_calif(scores):\n",
        "   \n",
        "    return list(map(calificaciones, scores))\n",
        "\n",
        "print(applicar_calif([6.5, 5, 3.4, 8.2, 2.1, 9.7, 10]))"
      ],
      "execution_count": 28,
      "outputs": [
        {
          "output_type": "stream",
          "text": [
            "['Aprobado', 'Aprobado', 'Reprobado', 'Excelente', 'Reprobado', 'Perfecto', '']\n"
          ],
          "name": "stdout"
        }
      ]
    },
    {
      "cell_type": "code",
      "metadata": {
        "colab": {
          "base_uri": "https://localhost:8080/"
        },
        "id": "jbB_-hviJVnT",
        "outputId": "317aa647-7153-44e1-9a52-efe1790908e4"
      },
      "source": [
        "#Corregir los errores sintácticos del siguiente programa:contraseña = input('Introduce la contraseña: \")if contraseña in ['sesamo'):print('Pasa')elseprint('No pasa')\n",
        "\n",
        "contraseña = input('Introduce la contraseña: ')\n",
        "if contraseña in ['sesamo']:\n",
        "    print('Pasa')\n",
        "else:\n",
        "    print('No pasa')"
      ],
      "execution_count": 31,
      "outputs": [
        {
          "output_type": "stream",
          "text": [
            "Introduce la contraseña: sesamo\n",
            "Pasa\n"
          ],
          "name": "stdout"
        }
      ]
    },
    {
      "cell_type": "code",
      "metadata": {
        "colab": {
          "base_uri": "https://localhost:8080/"
        },
        "id": "nxpPFqy5KSK2",
        "outputId": "c6d7ab20-3cd2-40ee-94c8-78157c1d88ec"
      },
      "source": [
        "#Detectar y corregir los errores del siguiente programa que aplica el iva a una factura:\n",
        "#base = input('Introduce la base imponible de la factura: ')print(aplica_iva(base, iva))defaplica_iva(base, iva = 16):base = base * iva   returnbase \n",
        "\n",
        "\n",
        "base = float(input('Introduce la base imponible de la factura: '))\n",
        "\n",
        "def aplica_iva(base, iva = 21):\n",
        "    base += base * iva / 100  \n",
        "    return base \n",
        "\n",
        "print(aplica_iva(base))"
      ],
      "execution_count": 34,
      "outputs": [
        {
          "output_type": "stream",
          "text": [
            "Introduce la base imponible de la factura: 84\n",
            "101.64\n"
          ],
          "name": "stdout"
        }
      ]
    },
    {
      "cell_type": "code",
      "metadata": {
        "colab": {
          "base_uri": "https://localhost:8080/"
        },
        "id": "F6z1GcDYLC6d",
        "outputId": "5eb5772b-a1ad-4f43-91d2-56fcc85efd53"
      },
      "source": [
        "#Detectar y corregir los errores del siguiente programa que multiplica dos matrices:\n",
        "#a = ((1, 2, 3),(3, 2, 1))b = ((1, 2),(3, 4),(5, 6))defproducto(a, b):producto = []fori inrange(len(b)):fila = []forj inrange(len(a[0])):\n",
        "#suma = 0fork inrange(len(a[0]+1)):suma += a[i][k] * b[k+1][j]fila[j] = sumaproducto[i] = tuple(fila)returntuple(producto)print(producto(a, b))\n",
        "\n",
        "a = ((1, 2, 3),\n",
        "     (3, 2, 1))\n",
        "b = ((1, 2),\n",
        "     (3, 4),\n",
        "     (5, 6))\n",
        "\n",
        "def producto(a, b):\n",
        "    producto = []\n",
        "    for i in range(len(a)):\n",
        "        fila = [] \n",
        "        for j in range(len(b[0])):\n",
        "            suma = 0\n",
        "            for k in range(len(a[0])):\n",
        "                suma += a[i][k] * b[k][j]\n",
        "            fila.append(suma)\n",
        "        producto.append(tuple(fila))\n",
        "    return tuple(producto)\n",
        "\n",
        "print(producto(a, b))\n"
      ],
      "execution_count": 35,
      "outputs": [
        {
          "output_type": "stream",
          "text": [
            "((22, 28), (14, 20))\n"
          ],
          "name": "stdout"
        }
      ]
    },
    {
      "cell_type": "code",
      "metadata": {
        "colab": {
          "base_uri": "https://localhost:8080/"
        },
        "id": "gEp_AO3JLOOR",
        "outputId": "7b436970-f899-4bba-e477-ff23bd9447d9"
      },
      "source": [
        "#Detectar y corregir los errores del siguiente programa que calcula el producto escalar de dos vectores:\n",
        "#u = (1, 2, 3)v = (4, 5, 6)defproducto_escalar(u, v):fori inu:u[i+1] *= v[i+1]returnsum(u)print(producto_escalar(u, v))\n",
        "\n",
        "u = [1, 2, 3]\n",
        "v = [4, 5, 6]\n",
        "\n",
        "def producto_escalar(u, v):\n",
        "    for i in range(len(u)):\n",
        "        u[i] *= v[i]\n",
        "    return sum(u)\n",
        "\n",
        "print(producto_escalar(u, v))\n"
      ],
      "execution_count": 36,
      "outputs": [
        {
          "output_type": "stream",
          "text": [
            "32\n"
          ],
          "name": "stdout"
        }
      ]
    }
  ]
}